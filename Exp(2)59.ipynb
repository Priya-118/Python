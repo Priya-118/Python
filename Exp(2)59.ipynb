{
  "nbformat": 4,
  "nbformat_minor": 0,
  "metadata": {
    "colab": {
      "provenance": []
    },
    "kernelspec": {
      "name": "python3",
      "display_name": "Python 3"
    },
    "language_info": {
      "name": "python"
    }
  },
  "cells": [
    {
      "cell_type": "code",
      "execution_count": 1,
      "metadata": {
        "colab": {
          "base_uri": "https://localhost:8080/"
        },
        "id": "0BiNKcef9Opw",
        "outputId": "971080d0-1843-44a5-b334-9c2e40cba25e"
      },
      "outputs": [
        {
          "output_type": "stream",
          "name": "stdout",
          "text": [
            "True\n",
            "False\n",
            "True\n",
            "True\n",
            "False\n"
          ]
        }
      ],
      "source": [
        "class conditionalStatements:\n",
        "    def checkString(self, s: str) -> bool:\n",
        "\n",
        "        encountered_b = False\n",
        "\n",
        "        for char in s:\n",
        "            if char == 'b':\n",
        "                encountered_b = True\n",
        "            elif char == 'a' and encountered_b:\n",
        "\n",
        "                return False\n",
        "\n",
        "\n",
        "        return True\n",
        "\n",
        "\n",
        "checker = conditionalStatements()\n",
        "\n",
        "\n",
        "print(checker.checkString(\"aaabbb\"))\n",
        "print(checker.checkString(\"abab\"))\n",
        "print(checker.checkString(\"bbb\"))\n",
        "print(checker.checkString(\"aabb\"))\n",
        "print(checker.checkString(\"ababa\"))\n"
      ]
    }
  ]
}